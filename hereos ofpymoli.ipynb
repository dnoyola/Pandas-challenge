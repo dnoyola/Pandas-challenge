{
 "cells": [
  {
   "cell_type": "code",
   "execution_count": 1,
   "metadata": {},
   "outputs": [],
   "source": [
    "#Dependencies\n",
    "import pandas as pd\n",
    "import numpy as np\n",
    "import os"
   ]
  },
  {
   "cell_type": "code",
   "execution_count": 2,
   "metadata": {},
   "outputs": [
    {
     "ename": "ValueError",
     "evalue": "Expected object or value",
     "output_type": "error",
     "traceback": [
      "\u001b[1;31m---------------------------------------------------------------------------\u001b[0m",
      "\u001b[1;31mValueError\u001b[0m                                Traceback (most recent call last)",
      "\u001b[1;32m<ipython-input-2-8a72058a4fd2>\u001b[0m in \u001b[0;36m<module>\u001b[1;34m\u001b[0m\n\u001b[0;32m      2\u001b[0m \u001b[0mpurchase_data\u001b[0m \u001b[1;33m=\u001b[0m \u001b[0mos\u001b[0m\u001b[1;33m.\u001b[0m\u001b[0mpath\u001b[0m\u001b[1;33m.\u001b[0m\u001b[0mjoin\u001b[0m\u001b[1;33m(\u001b[0m\u001b[1;34m'Untitled'\u001b[0m\u001b[1;33m,\u001b[0m \u001b[1;34m'purchase_data.cvs'\u001b[0m\u001b[1;33m)\u001b[0m\u001b[1;33m\u001b[0m\u001b[1;33m\u001b[0m\u001b[0m\n\u001b[0;32m      3\u001b[0m \u001b[1;31m#Create Dataframe and display first 5 rows of DataFrame\u001b[0m\u001b[1;33m\u001b[0m\u001b[1;33m\u001b[0m\u001b[1;33m\u001b[0m\u001b[0m\n\u001b[1;32m----> 4\u001b[1;33m \u001b[0mdf\u001b[0m \u001b[1;33m=\u001b[0m \u001b[0mpd\u001b[0m\u001b[1;33m.\u001b[0m\u001b[0mread_json\u001b[0m\u001b[1;33m(\u001b[0m\u001b[0mpurchase_data\u001b[0m\u001b[1;33m)\u001b[0m\u001b[1;33m\u001b[0m\u001b[1;33m\u001b[0m\u001b[0m\n\u001b[0m\u001b[0;32m      5\u001b[0m \u001b[0mdf\u001b[0m\u001b[1;33m.\u001b[0m\u001b[0mhead\u001b[0m\u001b[1;33m(\u001b[0m\u001b[1;33m)\u001b[0m\u001b[1;33m\u001b[0m\u001b[1;33m\u001b[0m\u001b[0m\n",
      "\u001b[1;32m~\\anaconda3\\lib\\site-packages\\pandas\\util\\_decorators.py\u001b[0m in \u001b[0;36mwrapper\u001b[1;34m(*args, **kwargs)\u001b[0m\n\u001b[0;32m    212\u001b[0m                 \u001b[1;32melse\u001b[0m\u001b[1;33m:\u001b[0m\u001b[1;33m\u001b[0m\u001b[1;33m\u001b[0m\u001b[0m\n\u001b[0;32m    213\u001b[0m                     \u001b[0mkwargs\u001b[0m\u001b[1;33m[\u001b[0m\u001b[0mnew_arg_name\u001b[0m\u001b[1;33m]\u001b[0m \u001b[1;33m=\u001b[0m \u001b[0mnew_arg_value\u001b[0m\u001b[1;33m\u001b[0m\u001b[1;33m\u001b[0m\u001b[0m\n\u001b[1;32m--> 214\u001b[1;33m             \u001b[1;32mreturn\u001b[0m \u001b[0mfunc\u001b[0m\u001b[1;33m(\u001b[0m\u001b[1;33m*\u001b[0m\u001b[0margs\u001b[0m\u001b[1;33m,\u001b[0m \u001b[1;33m**\u001b[0m\u001b[0mkwargs\u001b[0m\u001b[1;33m)\u001b[0m\u001b[1;33m\u001b[0m\u001b[1;33m\u001b[0m\u001b[0m\n\u001b[0m\u001b[0;32m    215\u001b[0m \u001b[1;33m\u001b[0m\u001b[0m\n\u001b[0;32m    216\u001b[0m         \u001b[1;32mreturn\u001b[0m \u001b[0mcast\u001b[0m\u001b[1;33m(\u001b[0m\u001b[0mF\u001b[0m\u001b[1;33m,\u001b[0m \u001b[0mwrapper\u001b[0m\u001b[1;33m)\u001b[0m\u001b[1;33m\u001b[0m\u001b[1;33m\u001b[0m\u001b[0m\n",
      "\u001b[1;32m~\\anaconda3\\lib\\site-packages\\pandas\\io\\json\\_json.py\u001b[0m in \u001b[0;36mread_json\u001b[1;34m(path_or_buf, orient, typ, dtype, convert_axes, convert_dates, keep_default_dates, numpy, precise_float, date_unit, encoding, lines, chunksize, compression)\u001b[0m\n\u001b[0;32m    606\u001b[0m         \u001b[1;32mreturn\u001b[0m \u001b[0mjson_reader\u001b[0m\u001b[1;33m\u001b[0m\u001b[1;33m\u001b[0m\u001b[0m\n\u001b[0;32m    607\u001b[0m \u001b[1;33m\u001b[0m\u001b[0m\n\u001b[1;32m--> 608\u001b[1;33m     \u001b[0mresult\u001b[0m \u001b[1;33m=\u001b[0m \u001b[0mjson_reader\u001b[0m\u001b[1;33m.\u001b[0m\u001b[0mread\u001b[0m\u001b[1;33m(\u001b[0m\u001b[1;33m)\u001b[0m\u001b[1;33m\u001b[0m\u001b[1;33m\u001b[0m\u001b[0m\n\u001b[0m\u001b[0;32m    609\u001b[0m     \u001b[1;32mif\u001b[0m \u001b[0mshould_close\u001b[0m\u001b[1;33m:\u001b[0m\u001b[1;33m\u001b[0m\u001b[1;33m\u001b[0m\u001b[0m\n\u001b[0;32m    610\u001b[0m         \u001b[0mfilepath_or_buffer\u001b[0m\u001b[1;33m.\u001b[0m\u001b[0mclose\u001b[0m\u001b[1;33m(\u001b[0m\u001b[1;33m)\u001b[0m\u001b[1;33m\u001b[0m\u001b[1;33m\u001b[0m\u001b[0m\n",
      "\u001b[1;32m~\\anaconda3\\lib\\site-packages\\pandas\\io\\json\\_json.py\u001b[0m in \u001b[0;36mread\u001b[1;34m(self)\u001b[0m\n\u001b[0;32m    729\u001b[0m             \u001b[0mobj\u001b[0m \u001b[1;33m=\u001b[0m \u001b[0mself\u001b[0m\u001b[1;33m.\u001b[0m\u001b[0m_get_object_parser\u001b[0m\u001b[1;33m(\u001b[0m\u001b[0mself\u001b[0m\u001b[1;33m.\u001b[0m\u001b[0m_combine_lines\u001b[0m\u001b[1;33m(\u001b[0m\u001b[0mdata\u001b[0m\u001b[1;33m.\u001b[0m\u001b[0msplit\u001b[0m\u001b[1;33m(\u001b[0m\u001b[1;34m\"\\n\"\u001b[0m\u001b[1;33m)\u001b[0m\u001b[1;33m)\u001b[0m\u001b[1;33m)\u001b[0m\u001b[1;33m\u001b[0m\u001b[1;33m\u001b[0m\u001b[0m\n\u001b[0;32m    730\u001b[0m         \u001b[1;32melse\u001b[0m\u001b[1;33m:\u001b[0m\u001b[1;33m\u001b[0m\u001b[1;33m\u001b[0m\u001b[0m\n\u001b[1;32m--> 731\u001b[1;33m             \u001b[0mobj\u001b[0m \u001b[1;33m=\u001b[0m \u001b[0mself\u001b[0m\u001b[1;33m.\u001b[0m\u001b[0m_get_object_parser\u001b[0m\u001b[1;33m(\u001b[0m\u001b[0mself\u001b[0m\u001b[1;33m.\u001b[0m\u001b[0mdata\u001b[0m\u001b[1;33m)\u001b[0m\u001b[1;33m\u001b[0m\u001b[1;33m\u001b[0m\u001b[0m\n\u001b[0m\u001b[0;32m    732\u001b[0m         \u001b[0mself\u001b[0m\u001b[1;33m.\u001b[0m\u001b[0mclose\u001b[0m\u001b[1;33m(\u001b[0m\u001b[1;33m)\u001b[0m\u001b[1;33m\u001b[0m\u001b[1;33m\u001b[0m\u001b[0m\n\u001b[0;32m    733\u001b[0m         \u001b[1;32mreturn\u001b[0m \u001b[0mobj\u001b[0m\u001b[1;33m\u001b[0m\u001b[1;33m\u001b[0m\u001b[0m\n",
      "\u001b[1;32m~\\anaconda3\\lib\\site-packages\\pandas\\io\\json\\_json.py\u001b[0m in \u001b[0;36m_get_object_parser\u001b[1;34m(self, json)\u001b[0m\n\u001b[0;32m    751\u001b[0m         \u001b[0mobj\u001b[0m \u001b[1;33m=\u001b[0m \u001b[1;32mNone\u001b[0m\u001b[1;33m\u001b[0m\u001b[1;33m\u001b[0m\u001b[0m\n\u001b[0;32m    752\u001b[0m         \u001b[1;32mif\u001b[0m \u001b[0mtyp\u001b[0m \u001b[1;33m==\u001b[0m \u001b[1;34m\"frame\"\u001b[0m\u001b[1;33m:\u001b[0m\u001b[1;33m\u001b[0m\u001b[1;33m\u001b[0m\u001b[0m\n\u001b[1;32m--> 753\u001b[1;33m             \u001b[0mobj\u001b[0m \u001b[1;33m=\u001b[0m \u001b[0mFrameParser\u001b[0m\u001b[1;33m(\u001b[0m\u001b[0mjson\u001b[0m\u001b[1;33m,\u001b[0m \u001b[1;33m**\u001b[0m\u001b[0mkwargs\u001b[0m\u001b[1;33m)\u001b[0m\u001b[1;33m.\u001b[0m\u001b[0mparse\u001b[0m\u001b[1;33m(\u001b[0m\u001b[1;33m)\u001b[0m\u001b[1;33m\u001b[0m\u001b[1;33m\u001b[0m\u001b[0m\n\u001b[0m\u001b[0;32m    754\u001b[0m \u001b[1;33m\u001b[0m\u001b[0m\n\u001b[0;32m    755\u001b[0m         \u001b[1;32mif\u001b[0m \u001b[0mtyp\u001b[0m \u001b[1;33m==\u001b[0m \u001b[1;34m\"series\"\u001b[0m \u001b[1;32mor\u001b[0m \u001b[0mobj\u001b[0m \u001b[1;32mis\u001b[0m \u001b[1;32mNone\u001b[0m\u001b[1;33m:\u001b[0m\u001b[1;33m\u001b[0m\u001b[1;33m\u001b[0m\u001b[0m\n",
      "\u001b[1;32m~\\anaconda3\\lib\\site-packages\\pandas\\io\\json\\_json.py\u001b[0m in \u001b[0;36mparse\u001b[1;34m(self)\u001b[0m\n\u001b[0;32m    855\u001b[0m \u001b[1;33m\u001b[0m\u001b[0m\n\u001b[0;32m    856\u001b[0m         \u001b[1;32melse\u001b[0m\u001b[1;33m:\u001b[0m\u001b[1;33m\u001b[0m\u001b[1;33m\u001b[0m\u001b[0m\n\u001b[1;32m--> 857\u001b[1;33m             \u001b[0mself\u001b[0m\u001b[1;33m.\u001b[0m\u001b[0m_parse_no_numpy\u001b[0m\u001b[1;33m(\u001b[0m\u001b[1;33m)\u001b[0m\u001b[1;33m\u001b[0m\u001b[1;33m\u001b[0m\u001b[0m\n\u001b[0m\u001b[0;32m    858\u001b[0m \u001b[1;33m\u001b[0m\u001b[0m\n\u001b[0;32m    859\u001b[0m         \u001b[1;32mif\u001b[0m \u001b[0mself\u001b[0m\u001b[1;33m.\u001b[0m\u001b[0mobj\u001b[0m \u001b[1;32mis\u001b[0m \u001b[1;32mNone\u001b[0m\u001b[1;33m:\u001b[0m\u001b[1;33m\u001b[0m\u001b[1;33m\u001b[0m\u001b[0m\n",
      "\u001b[1;32m~\\anaconda3\\lib\\site-packages\\pandas\\io\\json\\_json.py\u001b[0m in \u001b[0;36m_parse_no_numpy\u001b[1;34m(self)\u001b[0m\n\u001b[0;32m   1087\u001b[0m         \u001b[1;32mif\u001b[0m \u001b[0morient\u001b[0m \u001b[1;33m==\u001b[0m \u001b[1;34m\"columns\"\u001b[0m\u001b[1;33m:\u001b[0m\u001b[1;33m\u001b[0m\u001b[1;33m\u001b[0m\u001b[0m\n\u001b[0;32m   1088\u001b[0m             self.obj = DataFrame(\n\u001b[1;32m-> 1089\u001b[1;33m                 \u001b[0mloads\u001b[0m\u001b[1;33m(\u001b[0m\u001b[0mjson\u001b[0m\u001b[1;33m,\u001b[0m \u001b[0mprecise_float\u001b[0m\u001b[1;33m=\u001b[0m\u001b[0mself\u001b[0m\u001b[1;33m.\u001b[0m\u001b[0mprecise_float\u001b[0m\u001b[1;33m)\u001b[0m\u001b[1;33m,\u001b[0m \u001b[0mdtype\u001b[0m\u001b[1;33m=\u001b[0m\u001b[1;32mNone\u001b[0m\u001b[1;33m\u001b[0m\u001b[1;33m\u001b[0m\u001b[0m\n\u001b[0m\u001b[0;32m   1090\u001b[0m             )\n\u001b[0;32m   1091\u001b[0m         \u001b[1;32melif\u001b[0m \u001b[0morient\u001b[0m \u001b[1;33m==\u001b[0m \u001b[1;34m\"split\"\u001b[0m\u001b[1;33m:\u001b[0m\u001b[1;33m\u001b[0m\u001b[1;33m\u001b[0m\u001b[0m\n",
      "\u001b[1;31mValueError\u001b[0m: Expected object or value"
     ]
    }
   ],
   "source": [
    "\n",
    "#File Path\n",
    "purchase_data = os.path.join('Untitled', 'purchase_data.cvs')\n",
    "#Create Dataframe and display first 5 rows of DataFrame\n",
    "df = pd.read_json(purchase_data)\n",
    "df.head()"
   ]
  },
  {
   "cell_type": "code",
   "execution_count": null,
   "metadata": {},
   "outputs": [],
   "source": [
    "#Get number of players\n",
    "uniqueSN = df['SN'].unique() #creates an array containing the number of unique players in Heroes of Pymoli\n",
    "unique_players = len(uniqueSN) #The length of the array is the number of unique players\n",
    "\n",
    "total_players_dict = {\n",
    "    \"Total Players\": [unique_players]\n",
    "}\n",
    "total_players_df = pd.DataFrame(total_players_dict)\n",
    "total_players_df"
   ]
  },
  {
   "cell_type": "code",
   "execution_count": null,
   "metadata": {},
   "outputs": [],
   "source": [
    "\n",
    "males_df = df.loc[df['Gender'] == \"Male\",:]\n",
    "females_df = df.loc[df['Gender'] == \"Female\",:]\n",
    "\n",
    "others_list = []\n",
    "for x in range(0, len(df['Gender'])):\n",
    "    if(df['Gender'][x] != \"Male\" and df['Gender'][x] != \"Female\"):\n",
    "        others_list.append(df['Gender'][x])\n",
    "        \n",
    "others_set = set(others_list)\n",
    "other_df = df.loc[df['Gender'] == others_list[0],:]\n",
    "\n",
    "male_players = len(males_df['SN'].unique())\n",
    "female_players = len(females_df['SN'].unique())\n",
    "other_players = len(other_df['SN'].unique())\n",
    "player_gender_counts_list = []\n",
    "gender_percentages_list = []\n",
    "\n",
    "player_gender_counts_list.append(male_players)\n",
    "player_gender_counts_list.append(female_players)\n",
    "player_gender_counts_list.append(other_players)\n",
    "for d in range(0, len(player_gender_counts_list)):\n",
    "    gender_percentages_list.append(player_gender_counts_list[d]/unique_players)"
   ]
  },
  {
   "cell_type": "code",
   "execution_count": null,
   "metadata": {},
   "outputs": [],
   "source": [
    "\n",
    "gender_demographics_dict = {\n",
    "    \"Gender\": [\"Male\", \"Female\", \"Other / Non-Disclosed\"],\n",
    "    \"Number of Players\": player_gender_counts_list,\n",
    "    \"Percentage\": gender_percentages_list\n",
    "}\n",
    "gender_demographics_df = pd.DataFrame(gender_demographics_dict)\n",
    "gender_demographics_df"
   ]
  },
  {
   "cell_type": "code",
   "execution_count": null,
   "metadata": {},
   "outputs": [],
   "source": [
    "\n",
    "gender_demographics_dict = {\n",
    "    \"Gender\": [\"Male\", \"Female\", \"Other / Non-Disclosed\"],\n",
    "    \"Number of Players\": player_gender_counts_list,\n",
    "    \"Percentage\": gender_percentages_list\n",
    "}\n",
    "gender_demographics_df = pd.DataFrame(gender_demographics_dict)\n",
    "gender_demographics_df"
   ]
  },
  {
   "cell_type": "code",
   "execution_count": null,
   "metadata": {},
   "outputs": [],
   "source": [
    "#Average Purchase Price and Total Purchase Value\n",
    "average_list = []\n",
    "total_list = []\n",
    "total_list.append(sum(males_df['Price']))\n",
    "total_list.append(sum(females_df['Price']))\n",
    "total_list.append(sum(other_df['Price']))\n",
    "for x in range(0, len(total_list)):\n",
    "    average_list.append(total_list[x]/purchase_counts_list[x])"
   ]
  },
  {
   "cell_type": "code",
   "execution_count": null,
   "metadata": {},
   "outputs": [],
   "source": [
    "\n",
    "#Normalized Totals\n",
    "normalized_purchase_percents = []\n",
    "for y in range (0, len(purchase_counts_list)):\n",
    "    normalized_purchase_percents.append(purchase_counts_list[y]/sum(purchase_counts_list))\n",
    "normalized_revenue_percents = []\n",
    "for z in range (0, len(total_list)):\n",
    "    normalized_revenue_percents.append(total_list[z]/sum(total_list))\n",
    "normalized_average_percents = []\n",
    "for a in range(0, len(average_list)):\n",
    "    normalized_average_percents.append(average_list[a]/sum(average_list))\n",
    "rounded_normalized_purchase_percents = []\n",
    "rounded_normalized_revenue_percents = []\n",
    "rounded_normalized_average_percents = []\n",
    "for purchase in normalized_purchase_percents:\n",
    "    purchase = round(purchase, 3)\n",
    "    rounded_normalized_purchase_percents.append(purchase)\n",
    "for revenue in normalized_revenue_percents:\n",
    "    revenue = round(revenue, 3)\n",
    "    rounded_normalized_revenue_percents.append(revenue)\n",
    "for average in normalized_average_percents:\n",
    "    average = round(average, 3)\n",
    "    rounded_normalized_average_percents.append(average)\n",
    "print(rounded_normalized_purchase_percents)\n",
    "print(rounded_normalized_revenue_percents)\n",
    "print(rounded_normalized_average_percents)"
   ]
  },
  {
   "cell_type": "code",
   "execution_count": null,
   "metadata": {},
   "outputs": [],
   "source": [
    "\n",
    "gender_list = [\"Male\", \"Female\", \"Other / Non-Disclosed\"]\n",
    "gender_dict = {\n",
    "    \"Gender\": gender_list,\n",
    "    \"Purchase Count\": purchase_counts_list,\n",
    "    \"Normalized Purchase Count\": rounded_normalized_purchase_percents,\n",
    "    \"Total Revenue\": total_list,\n",
    "    \"Normalized Total Revenue\": rounded_normalized_revenue_percents,\n",
    "    \"Average Purchase Price\": average_list,\n",
    "    \"Normalized Average Price\": rounded_normalized_average_percents\n",
    "    \n",
    "}\n",
    "gender_df = pd.DataFrame(gender_dict, columns=['Gender', 'Purchase Count', 'Total Revenue', 'Average Purchase Price',\n",
    "                                               'Normalized Purchase Count', 'Normalized Total Revenue', \n",
    "                                               'Normalized Average Price'])\n",
    "gender_df"
   ]
  },
  {
   "cell_type": "code",
   "execution_count": null,
   "metadata": {},
   "outputs": [],
   "source": [
    "\n",
    "print(max(df['Age']))\n",
    "print(min(df['Age']))\n",
    "bins = [0, 10, 15, 20, 25, 30, 35, 40, 45, 50]\n",
    "labels = ['a', 'b', 'c', 'd', 'e', 'f', 'g', 'h', 'i']\n",
    "arange = pd.cut(df['Age'], bins=bins, labels=labels, right=False)\n",
    "agedf = df\n",
    "agedf['Age Range'] = arange\n",
    "agedf.head()"
   ]
  },
  {
   "cell_type": "code",
   "execution_count": null,
   "metadata": {},
   "outputs": [],
   "source": [
    "#Purchase Count, Average Purchase Price, Total Purchase Value, Normalized Totals\n",
    "age_purchase_count = []\n",
    "age_total_revenue = []\n",
    "age_average_purchase_price = []\n",
    "for label in labels:\n",
    "    agerange_df = agedf.loc[agedf['Age Range'] == label,:]\n",
    "    age_purchase_count.append(len(agerange_df['Item ID']))\n",
    "    age_total_revenue.append(round(sum(agerange_df['Price']), 4))\n",
    "    age_average_purchase_price.append(round(sum(agerange_df['Price'])/len(agerange_df['Price']), 4))\n",
    "print(age_purchase_count)\n",
    "print(age_total_revenue)\n",
    "print(age_average_purchase_price)"
   ]
  },
  {
   "cell_type": "code",
   "execution_count": null,
   "metadata": {},
   "outputs": [],
   "source": [
    "normalized_age_purchase_count = []\n",
    "normalized_age_total_revenue = []\n",
    "normalized_age_average_purchase_price = []\n",
    "for c in range(0, len(age_purchase_count)):\n",
    "    normalized_age_purchase_count.append(round(age_purchase_count[c]/sum(age_purchase_count), 2))\n",
    "    normalized_age_total_revenue.append(round(age_total_revenue[c]/sum(age_total_revenue), 2))\n",
    "    normalized_age_average_purchase_price.append(round(age_average_purchase_price[c]/sum(age_average_purchase_price), 2))\n",
    "print(normalized_age_purchase_count)\n",
    "print(normalized_age_total_revenue)\n",
    "print(normalized_age_average_purchase_price)"
   ]
  },
  {
   "cell_type": "code",
   "execution_count": null,
   "metadata": {},
   "outputs": [],
   "source": [
    "\n",
    "range_list = [\"0-9\", \"10-14\", \"15-19\", \"20-24\", \"25-29\", \"30-34\", \"35-39\", \"40-44\", \"45-50\"]\n",
    "age_dict = {\n",
    "    \"Age Range\": range_list,\n",
    "    \"Purchase Count\": age_purchase_count,\n",
    "    \"Total Revenue\": age_total_revenue,\n",
    "    \"Average Purchase Price\": age_average_purchase_price,\n",
    "    \"Normalized Purchase Count\": normalized_age_purchase_count,\n",
    "    \"Normalized Total Revenue\": normalized_age_total_revenue,\n",
    "    \"Normalized Average Price\": normalized_age_average_purchase_price\n",
    "}\n",
    "age_results_df = pd.DataFrame(age_dict, columns=[\"Age Range\", \"Purchase Cnt\", \"Total Revenue\", \n",
    "                                                 \"Average Purchase Price\", \"Normalized Purchase Cnt\", \n",
    "                                                 \"Normalized Total Revenue\", \"Normalized Average Price\"])\n",
    "age_results_df"
   ]
  },
  {
   "cell_type": "code",
   "execution_count": null,
   "metadata": {},
   "outputs": [],
   "source": [
    "\n",
    "SNs = list(df['SN'])\n",
    "players = set(SNs)\n",
    "players = list(players)\n",
    "print(len(players))"
   ]
  },
  {
   "cell_type": "code",
   "execution_count": null,
   "metadata": {},
   "outputs": [],
   "source": [
    "player_SN = []\n",
    "player_purchase_count = []\n",
    "player_total_revenue = []\n",
    "player_average_price = []\n",
    "for player in players:\n",
    "    playerdf = df.loc[df['SN'] == player,:]\n",
    "    player_SN.append(player)\n",
    "    player_purchase_count.append(len(playerdf['SN']))\n",
    "    player_total_revenue.append(sum(playerdf['Price']))\n",
    "    player_average_price.append(round(sum(playerdf['Price'])/len(playerdf['Price']), 2))"
   ]
  },
  {
   "cell_type": "code",
   "execution_count": null,
   "metadata": {},
   "outputs": [],
   "source": [
    "player_dict = {\n",
    "    \"SN\": player_SN,\n",
    "    \"Purchase Count\": player_purchase_count,\n",
    "    \"Total Revenue\": player_total_revenue,\n",
    "    \"Average Price\": player_average_price\n",
    "}\n",
    "player_df = pd.DataFrame(player_dict, columns=['SN', 'Purchase Count', 'Total Revenue', 'Average Price'])\n",
    "player_df.head()"
   ]
  },
  {
   "cell_type": "code",
   "execution_count": null,
   "metadata": {},
   "outputs": [],
   "source": [
    "spenders_df = player_df.sort_values(by=['Total Revenue'], ascending=False)\n",
    "result = spenders_df.head()\n",
    "result"
   ]
  },
  {
   "cell_type": "code",
   "execution_count": null,
   "metadata": {},
   "outputs": [],
   "source": [
    "items = set(df['Item ID'])\n",
    "items = list(items)\n",
    "item_IDs = []\n",
    "item_names = []\n",
    "item_price = []\n",
    "item_purchase_count = []\n",
    "item_total_purchase_value = []\n",
    "for item in items:\n",
    "    itemdf = df.loc[df['Item ID'] == item,:]\n",
    "    item_IDs.append(item)\n",
    "    unique_item_name = itemdf['Item Name'].unique()\n",
    "    unique_item_price = itemdf['Price'].unique()\n",
    "    item_names.append(unique_item_name[0])\n",
    "    item_price.append(unique_item_price[0])\n",
    "    item_purchase_count.append(len(itemdf['Price']))\n",
    "    item_total_purchase_value.append(sum(itemdf['Price']))\n",
    "item_dict = {\n",
    "    \"Item ID\": item_IDs,\n",
    "    \"Item Name\": item_names,\n",
    "    \"Purchase Count\": item_purchase_count,\n",
    "    \"Price\": item_price,\n",
    "    \"Total Purchase Value\": item_total_purchase_value\n",
    "}\n",
    "item_df = pd.DataFrame(item_dict, columns=[\"Item ID\", \"Item Name\", \"Purchase Count\", \"Price\", \"Total Purchase Value\"])\n",
    "item_df.head()"
   ]
  },
  {
   "cell_type": "code",
   "execution_count": null,
   "metadata": {},
   "outputs": [],
   "source": [
    "popular_items_df = item_df.sort_values(by=['Purchase Count'], ascending=False)\n",
    "popularitydf = popular_items_df.head()\n",
    "popularitydf"
   ]
  },
  {
   "cell_type": "code",
   "execution_count": null,
   "metadata": {},
   "outputs": [],
   "source": [
    "\n",
    "profitable_items_df = item_df.sort_values(by=['Total Purchase Value'], ascending=False)\n",
    "profitabledf = profitable_items_df.head()\n",
    "profitabledf"
   ]
  }
 ],
 "metadata": {
  "kernelspec": {
   "display_name": "Python 3",
   "language": "python",
   "name": "python3"
  },
  "language_info": {
   "codemirror_mode": {
    "name": "ipython",
    "version": 3
   },
   "file_extension": ".py",
   "mimetype": "text/x-python",
   "name": "python",
   "nbconvert_exporter": "python",
   "pygments_lexer": "ipython3",
   "version": "3.7.6"
  }
 },
 "nbformat": 4,
 "nbformat_minor": 4
}
